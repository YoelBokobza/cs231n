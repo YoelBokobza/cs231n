{
  "cells": [
    {
      "cell_type": "code",
      "execution_count": 1,
      "metadata": {
        "colab": {
          "base_uri": "https://localhost:8080/"
        },
        "id": "C-jJygboLzqL",
        "outputId": "e1f033e3-fa0a-4d29-9ec6-d569ed5c3127"
      },
      "outputs": [
        {
          "output_type": "stream",
          "name": "stdout",
          "text": [
            "Mounted at /content/drive\n",
            "/content/drive/My Drive/CS231n_assignment2/cs231n/datasets\n",
            "/content/drive/My Drive/CS231n_assignment2\n"
          ]
        }
      ],
      "source": [
        "# This mounts your Google Drive to the Colab VM.\n",
        "from google.colab import drive\n",
        "drive.mount('/content/drive', force_remount=True)\n",
        "\n",
        "# Enter the foldername in your Drive where you have saved the unzipped\n",
        "# assignment folder, e.g. 'cs231n/assignments/assignment1/'\n",
        "FOLDERNAME = 'CS231n_assignment2'\n",
        "assert FOLDERNAME is not None, \"[!] Enter the foldername.\"\n",
        "\n",
        "# Now that we've mounted your Drive, this ensures that\n",
        "# the Python interpreter of the Colab VM can load\n",
        "# python files from within it.\n",
        "import sys\n",
        "sys.path.append('/content/drive/My Drive/{}'.format(FOLDERNAME))\n",
        "\n",
        "# This downloads the CIFAR-10 dataset to your Drive\n",
        "# if it doesn't already exist.\n",
        "%cd drive/My\\ Drive/$FOLDERNAME/cs231n/datasets/\n",
        "!bash get_datasets.sh\n",
        "%cd /content/drive/My\\ Drive/$FOLDERNAME"
      ]
    },
    {
      "cell_type": "markdown",
      "metadata": {
        "tags": [
          "pdf-title"
        ],
        "id": "DGAYrezKLzqN"
      },
      "source": [
        "# Dropout\n",
        "Dropout [1] is a technique for regularizing neural networks by randomly setting some output activations to zero during the forward pass. In this exercise, you will implement a dropout layer and modify your fully connected network to optionally use dropout.\n",
        "\n",
        "[1] [Geoffrey E. Hinton et al, \"Improving neural networks by preventing co-adaptation of feature detectors\", arXiv 2012](https://arxiv.org/abs/1207.0580)"
      ]
    },
    {
      "cell_type": "code",
      "execution_count": 2,
      "metadata": {
        "tags": [
          "pdf-ignore"
        ],
        "colab": {
          "base_uri": "https://localhost:8080/"
        },
        "id": "0-DyiBWOLzqO",
        "outputId": "9bff7335-4795-47e7-ddac-61996f73c3d3"
      },
      "outputs": [
        {
          "output_type": "stream",
          "name": "stdout",
          "text": [
            "=========== You can safely ignore the message below if you are NOT working on ConvolutionalNetworks.ipynb ===========\n",
            "\tYou will need to compile a Cython extension for a portion of this assignment.\n",
            "\tThe instructions to do this will be given in a section of the notebook below.\n"
          ]
        }
      ],
      "source": [
        "# Setup cell.\n",
        "import time\n",
        "import numpy as np\n",
        "import matplotlib.pyplot as plt\n",
        "from cs231n.classifiers.fc_net import *\n",
        "from cs231n.data_utils import get_CIFAR10_data\n",
        "from cs231n.gradient_check import eval_numerical_gradient, eval_numerical_gradient_array\n",
        "from cs231n.solver import Solver\n",
        "\n",
        "%matplotlib inline\n",
        "plt.rcParams[\"figure.figsize\"] = (10.0, 8.0)  # Set default size of plots.\n",
        "plt.rcParams[\"image.interpolation\"] = \"nearest\"\n",
        "plt.rcParams[\"image.cmap\"] = \"gray\"\n",
        "\n",
        "%load_ext autoreload\n",
        "%autoreload 2\n",
        "\n",
        "def rel_error(x, y):\n",
        "    \"\"\"Returns relative error.\"\"\"\n",
        "    return np.max(np.abs(x - y) / (np.maximum(1e-8, np.abs(x) + np.abs(y))))"
      ]
    },
    {
      "cell_type": "code",
      "execution_count": 3,
      "metadata": {
        "tags": [
          "pdf-ignore"
        ],
        "colab": {
          "base_uri": "https://localhost:8080/"
        },
        "id": "vO1U4fnFLzqO",
        "outputId": "12117b26-2c06-4613-8bb8-2e5605911702"
      },
      "outputs": [
        {
          "output_type": "stream",
          "name": "stdout",
          "text": [
            "X_train: (49000, 3, 32, 32)\n",
            "y_train: (49000,)\n",
            "X_val: (1000, 3, 32, 32)\n",
            "y_val: (1000,)\n",
            "X_test: (1000, 3, 32, 32)\n",
            "y_test: (1000,)\n"
          ]
        }
      ],
      "source": [
        "# Load the (preprocessed) CIFAR-10 data.\n",
        "data = get_CIFAR10_data()\n",
        "for k, v in list(data.items()):\n",
        "    print(f\"{k}: {v.shape}\")"
      ]
    },
    {
      "cell_type": "markdown",
      "metadata": {
        "id": "loZrif8dLzqO"
      },
      "source": [
        "# Dropout: Forward Pass\n",
        "In the file `cs231n/layers.py`, implement the forward pass for dropout. Since dropout behaves differently during training and testing, make sure to implement the operation for both modes.\n",
        "\n",
        "Once you have done so, run the cell below to test your implementation."
      ]
    },
    {
      "cell_type": "code",
      "execution_count": 9,
      "metadata": {
        "colab": {
          "base_uri": "https://localhost:8080/"
        },
        "id": "JlXdcnyuLzqP",
        "outputId": "f72c0bab-f2aa-48c3-9c31-d269e12dff3f"
      },
      "outputs": [
        {
          "output_type": "stream",
          "name": "stdout",
          "text": [
            "Running tests with p =  0.25\n",
            "Mean of input:  10.000207878477502\n",
            "Mean of train-time output:  11.76480408856782\n",
            "Mean of test-time output:  10.000207878477502\n",
            "Fraction of train-time output set to zero:  0.706\n",
            "Fraction of test-time output set to zero:  0.0\n",
            "\n",
            "Running tests with p =  0.4\n",
            "Mean of input:  10.000207878477502\n",
            "Mean of train-time output:  9.599327132855228\n",
            "Mean of test-time output:  10.000207878477502\n",
            "Fraction of train-time output set to zero:  0.616\n",
            "Fraction of test-time output set to zero:  0.0\n",
            "\n",
            "Running tests with p =  0.7\n",
            "Mean of input:  10.000207878477502\n",
            "Mean of train-time output:  10.085900315204318\n",
            "Mean of test-time output:  10.000207878477502\n",
            "Fraction of train-time output set to zero:  0.294\n",
            "Fraction of test-time output set to zero:  0.0\n",
            "\n"
          ]
        }
      ],
      "source": [
        "np.random.seed(231)\n",
        "x = np.random.randn(500, 500) + 10\n",
        "\n",
        "for p in [0.25, 0.4, 0.7]:\n",
        "    out, _ = dropout_forward(x, {'mode': 'train', 'p': p})\n",
        "    out_test, _ = dropout_forward(x, {'mode': 'test', 'p': p})\n",
        "\n",
        "    print('Running tests with p = ', p)\n",
        "    print('Mean of input: ', x.mean())\n",
        "    print('Mean of train-time output: ', out.mean())\n",
        "    print('Mean of test-time output: ', out_test.mean())\n",
        "    print('Fraction of train-time output set to zero: ', (out == 0).mean())\n",
        "    print('Fraction of test-time output set to zero: ', (out_test == 0).mean())\n",
        "    print()"
      ]
    },
    {
      "cell_type": "markdown",
      "metadata": {
        "id": "4COKD3OmLzqP"
      },
      "source": [
        "# Dropout: Backward Pass\n",
        "In the file `cs231n/layers.py`, implement the backward pass for dropout. After doing so, run the following cell to numerically gradient-check your implementation."
      ]
    },
    {
      "cell_type": "code",
      "execution_count": 18,
      "metadata": {
        "colab": {
          "base_uri": "https://localhost:8080/"
        },
        "id": "14psr2HuLzqP",
        "outputId": "0367586b-767a-458f-9213-c9c85ae9df53"
      },
      "outputs": [
        {
          "output_type": "stream",
          "name": "stdout",
          "text": [
            "dx relative error:  0.0\n"
          ]
        }
      ],
      "source": [
        "np.random.seed(231)\n",
        "x = np.random.randn(10, 10) + 10\n",
        "dout = np.random.randn(*x.shape)\n",
        "\n",
        "dropout_param = {'mode': 'train', 'p': 0.2, 'seed': 123}\n",
        "out, cache = dropout_forward(x, dropout_param)\n",
        "dx = dropout_backward(dout, cache)\n",
        "dx_num = eval_numerical_gradient_array(lambda xx: dropout_forward(xx, dropout_param)[0], x, dout)\n",
        "\n",
        "# Error should be around e-10 or less.\n",
        "print('dx relative error: ', rel_error(dx, dx_num))"
      ]
    },
    {
      "cell_type": "markdown",
      "metadata": {
        "tags": [
          "pdf-inline"
        ],
        "id": "26c5BtzlLzqP"
      },
      "source": [
        "## Inline Question 1:\n",
        "What happens if we do not divide the values being passed through inverse dropout by `p` in the dropout layer? Why does that happen?\n",
        "\n",
        "## Answer:\n",
        "If we will not divide by P, then during inference each neuron in the layer after dropout will get as input a larger value than it was used to get during training, and it will bias the results."
      ]
    },
    {
      "cell_type": "markdown",
      "metadata": {
        "id": "Tju9FWE0LzqQ"
      },
      "source": [
        "# Fully Connected Networks with Dropout\n",
        "In the file `cs231n/classifiers/fc_net.py`, modify your implementation to use dropout. Specifically, if the constructor of the network receives a value that is not 1 for the `dropout_keep_ratio` parameter, then the net should add a dropout layer immediately after every ReLU nonlinearity. After doing so, run the following to numerically gradient-check your implementation."
      ]
    },
    {
      "cell_type": "code",
      "execution_count": 23,
      "metadata": {
        "colab": {
          "base_uri": "https://localhost:8080/"
        },
        "id": "bCL2HetELzqQ",
        "outputId": "d95ce911-385a-4a84-fbcd-5ebc7d9432c5"
      },
      "outputs": [
        {
          "output_type": "stream",
          "name": "stdout",
          "text": [
            "Running check with dropout =  1\n",
            "Initial loss:  2.3004790897684924\n",
            "W1 relative error: 7.70e-08\n",
            "W2 relative error: 1.71e-05\n",
            "W3 relative error: 2.95e-07\n",
            "b1 relative error: 4.66e-09\n",
            "b2 relative error: 2.09e-09\n",
            "b3 relative error: 6.60e-11\n",
            "\n",
            "Running check with dropout =  0.75\n",
            "Initial loss:  2.3016482157750753\n",
            "W1 relative error: 3.44e-07\n",
            "W2 relative error: 1.48e-06\n",
            "W3 relative error: 1.40e-07\n",
            "b1 relative error: 2.01e-09\n",
            "b2 relative error: 1.72e-09\n",
            "b3 relative error: 1.32e-10\n",
            "\n",
            "Running check with dropout =  0.5\n",
            "Initial loss:  2.294963257976082\n",
            "W1 relative error: 1.20e-07\n",
            "W2 relative error: 5.54e-07\n",
            "W3 relative error: 5.55e-07\n",
            "b1 relative error: 8.96e-09\n",
            "b2 relative error: 1.02e-08\n",
            "b3 relative error: 1.25e-10\n",
            "\n"
          ]
        }
      ],
      "source": [
        "np.random.seed(231)\n",
        "N, D, H1, H2, C = 2, 15, 20, 30, 10\n",
        "X = np.random.randn(N, D)\n",
        "y = np.random.randint(C, size=(N,))\n",
        "\n",
        "for dropout_keep_ratio in [1, 0.75, 0.5]:\n",
        "    print('Running check with dropout = ', dropout_keep_ratio)\n",
        "    model = FullyConnectedNet(\n",
        "        [H1, H2],\n",
        "        input_dim=D,\n",
        "        num_classes=C,\n",
        "        weight_scale=5e-2,\n",
        "        dtype=np.float64,\n",
        "        dropout_keep_ratio=dropout_keep_ratio,\n",
        "        seed=123\n",
        "    )\n",
        "\n",
        "    loss, grads = model.loss(X, y)\n",
        "    print('Initial loss: ', loss)\n",
        "\n",
        "    # Relative errors should be around e-6 or less.\n",
        "    # Note that it's fine if for dropout_keep_ratio=1 you have W2 error be on the order of e-5.\n",
        "    for name in sorted(grads):\n",
        "        f = lambda _: model.loss(X, y)[0]\n",
        "        grad_num = eval_numerical_gradient(f, model.params[name], verbose=False, h=1e-5)\n",
        "        print('%s relative error: %.2e' % (name, rel_error(grad_num, grads[name])))\n",
        "    print()"
      ]
    },
    {
      "cell_type": "markdown",
      "metadata": {
        "id": "5DkndNeVLzqQ"
      },
      "source": [
        "# Regularization Experiment\n",
        "As an experiment, we will train a pair of two-layer networks on 500 training examples: one will use no dropout, and one will use a keep probability of 0.25. We will then visualize the training and validation accuracies of the two networks over time."
      ]
    },
    {
      "cell_type": "code",
      "execution_count": 30,
      "metadata": {
        "scrolled": false,
        "colab": {
          "base_uri": "https://localhost:8080/"
        },
        "id": "af2ofpQGLzqQ",
        "outputId": "08257d69-53d7-439b-d065-f5936ce4bee3"
      },
      "outputs": [
        {
          "output_type": "stream",
          "name": "stdout",
          "text": [
            "1\n",
            "(Iteration 1 / 125) loss: 8.869406\n",
            "(Epoch 0 / 25) train acc: 0.236000; val_acc: 0.189000\n",
            "(Epoch 1 / 25) train acc: 0.340000; val_acc: 0.244000\n",
            "(Epoch 2 / 25) train acc: 0.506000; val_acc: 0.242000\n",
            "(Epoch 3 / 25) train acc: 0.544000; val_acc: 0.257000\n",
            "(Epoch 4 / 25) train acc: 0.664000; val_acc: 0.263000\n",
            "(Epoch 5 / 25) train acc: 0.768000; val_acc: 0.262000\n",
            "(Epoch 6 / 25) train acc: 0.806000; val_acc: 0.275000\n",
            "(Epoch 7 / 25) train acc: 0.826000; val_acc: 0.297000\n",
            "(Epoch 8 / 25) train acc: 0.816000; val_acc: 0.289000\n",
            "(Epoch 9 / 25) train acc: 0.916000; val_acc: 0.304000\n",
            "(Epoch 10 / 25) train acc: 0.902000; val_acc: 0.288000\n",
            "(Epoch 11 / 25) train acc: 0.928000; val_acc: 0.278000\n",
            "(Epoch 12 / 25) train acc: 0.942000; val_acc: 0.291000\n",
            "(Epoch 13 / 25) train acc: 0.964000; val_acc: 0.318000\n",
            "(Epoch 14 / 25) train acc: 0.984000; val_acc: 0.325000\n",
            "(Epoch 15 / 25) train acc: 0.972000; val_acc: 0.311000\n",
            "(Epoch 16 / 25) train acc: 0.982000; val_acc: 0.295000\n",
            "(Epoch 17 / 25) train acc: 0.988000; val_acc: 0.296000\n",
            "(Epoch 18 / 25) train acc: 0.990000; val_acc: 0.298000\n",
            "(Epoch 19 / 25) train acc: 0.996000; val_acc: 0.294000\n",
            "(Epoch 20 / 25) train acc: 0.998000; val_acc: 0.289000\n",
            "(Iteration 101 / 125) loss: 0.003984\n",
            "(Epoch 21 / 25) train acc: 0.998000; val_acc: 0.290000\n",
            "(Epoch 22 / 25) train acc: 0.998000; val_acc: 0.294000\n",
            "(Epoch 23 / 25) train acc: 0.998000; val_acc: 0.295000\n",
            "(Epoch 24 / 25) train acc: 1.000000; val_acc: 0.303000\n",
            "(Epoch 25 / 25) train acc: 1.000000; val_acc: 0.298000\n",
            "\n",
            "0.25\n",
            "(Iteration 1 / 125) loss: 8.584524\n",
            "(Epoch 0 / 25) train acc: 0.210000; val_acc: 0.193000\n",
            "(Epoch 1 / 25) train acc: 0.310000; val_acc: 0.228000\n",
            "(Epoch 2 / 25) train acc: 0.430000; val_acc: 0.226000\n",
            "(Epoch 3 / 25) train acc: 0.634000; val_acc: 0.251000\n",
            "(Epoch 4 / 25) train acc: 0.664000; val_acc: 0.298000\n",
            "(Epoch 5 / 25) train acc: 0.702000; val_acc: 0.254000\n",
            "(Epoch 6 / 25) train acc: 0.790000; val_acc: 0.262000\n",
            "(Epoch 7 / 25) train acc: 0.820000; val_acc: 0.273000\n",
            "(Epoch 8 / 25) train acc: 0.886000; val_acc: 0.259000\n",
            "(Epoch 9 / 25) train acc: 0.902000; val_acc: 0.259000\n",
            "(Epoch 10 / 25) train acc: 0.922000; val_acc: 0.286000\n",
            "(Epoch 11 / 25) train acc: 0.948000; val_acc: 0.299000\n",
            "(Epoch 12 / 25) train acc: 0.926000; val_acc: 0.280000\n",
            "(Epoch 13 / 25) train acc: 0.944000; val_acc: 0.271000\n",
            "(Epoch 14 / 25) train acc: 0.958000; val_acc: 0.271000\n",
            "(Epoch 15 / 25) train acc: 0.922000; val_acc: 0.297000\n",
            "(Epoch 16 / 25) train acc: 0.944000; val_acc: 0.275000\n",
            "(Epoch 17 / 25) train acc: 0.944000; val_acc: 0.289000\n",
            "(Epoch 18 / 25) train acc: 0.966000; val_acc: 0.306000\n",
            "(Epoch 19 / 25) train acc: 0.958000; val_acc: 0.305000\n",
            "(Epoch 20 / 25) train acc: 0.950000; val_acc: 0.280000\n",
            "(Iteration 101 / 125) loss: 0.856419\n",
            "(Epoch 21 / 25) train acc: 0.980000; val_acc: 0.288000\n",
            "(Epoch 22 / 25) train acc: 0.986000; val_acc: 0.293000\n",
            "(Epoch 23 / 25) train acc: 0.978000; val_acc: 0.294000\n",
            "(Epoch 24 / 25) train acc: 0.978000; val_acc: 0.306000\n",
            "(Epoch 25 / 25) train acc: 0.990000; val_acc: 0.287000\n",
            "\n"
          ]
        }
      ],
      "source": [
        "# Train two identical nets, one with dropout and one without.\n",
        "np.random.seed(270)\n",
        "num_train = 500\n",
        "small_data = {\n",
        "    'X_train': data['X_train'][:num_train],\n",
        "    'y_train': data['y_train'][:num_train],\n",
        "    'X_val': data['X_val'],\n",
        "    'y_val': data['y_val'],\n",
        "}\n",
        "\n",
        "solvers = {}\n",
        "dropout_choices = [1, 0.25]\n",
        "for dropout_keep_ratio in dropout_choices:\n",
        "    model = FullyConnectedNet(\n",
        "        [500],\n",
        "        dropout_keep_ratio=dropout_keep_ratio\n",
        "    )\n",
        "    print(dropout_keep_ratio)\n",
        "\n",
        "    solver = Solver(\n",
        "        model,\n",
        "        small_data,\n",
        "        num_epochs=25,\n",
        "        batch_size=100,\n",
        "        update_rule='adam',\n",
        "        optim_config={'learning_rate': 5e-4,},\n",
        "        verbose=True,\n",
        "        print_every=100\n",
        "    )\n",
        "    solver.train()\n",
        "    solvers[dropout_keep_ratio] = solver\n",
        "    print()"
      ]
    },
    {
      "cell_type": "code",
      "execution_count": 31,
      "metadata": {
        "colab": {
          "base_uri": "https://localhost:8080/",
          "height": 606
        },
        "id": "MBUQmhmTLzqR",
        "outputId": "bebd9726-6294-422d-ce0e-e1fedf4f413d"
      },
      "outputs": [
        {
          "output_type": "display_data",
          "data": {
            "image/png": "[encoded data removed]",
            "text/plain": [
              "<Figure size 1080x1080 with 2 Axes>"
            ]
          },
          "metadata": {
            "needs_background": "light"
          }
        }
      ],
      "source": [
        "# Plot train and validation accuracies of the two models.\n",
        "train_accs = []\n",
        "val_accs = []\n",
        "for dropout_keep_ratio in dropout_choices:\n",
        "    solver = solvers[dropout_keep_ratio]\n",
        "    train_accs.append(solver.train_acc_history[-1])\n",
        "    val_accs.append(solver.val_acc_history[-1])\n",
        "\n",
        "plt.subplot(3, 1, 1)\n",
        "for dropout_keep_ratio in dropout_choices:\n",
        "    plt.plot(\n",
        "        solvers[dropout_keep_ratio].train_acc_history, 'o', label='%.2f dropout_keep_ratio' % dropout_keep_ratio)\n",
        "plt.title('Train accuracy')\n",
        "plt.xlabel('Epoch')\n",
        "plt.ylabel('Accuracy')\n",
        "plt.legend(ncol=2, loc='lower right')\n",
        "  \n",
        "plt.subplot(3, 1, 2)\n",
        "for dropout_keep_ratio in dropout_choices:\n",
        "    plt.plot(\n",
        "        solvers[dropout_keep_ratio].val_acc_history, 'o', label='%.2f dropout_keep_ratio' % dropout_keep_ratio)\n",
        "plt.title('Val accuracy')\n",
        "plt.xlabel('Epoch')\n",
        "plt.ylabel('Accuracy')\n",
        "plt.legend(ncol=2, loc='lower right')\n",
        "\n",
        "plt.gcf().set_size_inches(15, 15)\n",
        "plt.show()"
      ]
    },
    {
      "cell_type": "markdown",
      "metadata": {
        "tags": [
          "pdf-inline"
        ],
        "id": "qEaPx7_8LzqR"
      },
      "source": [
        "## Inline Question 2:\n",
        "Compare the validation and training accuracies with and without dropout -- what do your results suggest about dropout as a regularizer?\n",
        "\n",
        "## Answer:\n",
        "[FILL THIS IN]\n"
      ]
    },
    {
      "cell_type": "markdown",
      "metadata": {
        "tags": [
          "pdf-inline"
        ],
        "id": "8YGTZsfwLzqR"
      },
      "source": [
        "## Inline Question 3:\n",
        "Suppose we are training a deep fully connected network for image classification, with dropout after hidden layers (parameterized by keep probability `p`). If we are concerned about overfitting, how should we modify `p` (if at all) when we decide to decrease the size of the hidden layers (that is, the number of nodes in each layer)?\n",
        "\n",
        "## Answer:\n",
        "[FILL THIS IN]\n"
      ]
    },
    {
      "cell_type": "code",
      "execution_count": null,
      "metadata": {
        "id": "dRwgk6hcLzqR"
      },
      "outputs": [],
      "source": [
        ""
      ]
    }
  ],
  "metadata": {
    "colab": {
      "name": "Dropout.ipynb",
      "provenance": [],
      "collapsed_sections": []
    },
    "language_info": {
      "name": "python"
    },
    "kernelspec": {
      "name": "python3",
      "display_name": "Python 3"
    }
  },
  "nbformat": 4,
  "nbformat_minor": 0
}